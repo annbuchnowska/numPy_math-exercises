{
 "cells": [
  {
   "cell_type": "markdown",
   "metadata": {
    "collapsed": true
   },
   "source": [
    "## Wektory i macierze - podstawowe operacje\n",
    "\n",
    "https://www.dropbox.com/s/09pts2sxdoemmp5/pract_01-blank.ipynb?dl=0"
   ]
  },
  {
   "cell_type": "code",
   "execution_count": 2,
   "metadata": {
    "collapsed": false
   },
   "outputs": [],
   "source": [
    "# define sample vectors as lists, basic Python data structures\n",
    "a = [1, 2, 3, 4, 5, 6]\n",
    "b = [3, 4, 1, 5, 9, 2]"
   ]
  },
  {
   "cell_type": "code",
   "execution_count": 3,
   "metadata": {
    "collapsed": true
   },
   "outputs": [],
   "source": [
    "def mult_scalar(a, b):\n",
    "    c = [a*b for a,b in zip(a, b)]\n",
    "    return c"
   ]
  },
  {
   "cell_type": "code",
   "execution_count": 4,
   "metadata": {
    "collapsed": false
   },
   "outputs": [
    {
     "data": {
      "text/plain": [
       "[3, 8, 3, 20, 45, 12]"
      ]
     },
     "execution_count": 4,
     "metadata": {},
     "output_type": "execute_result"
    }
   ],
   "source": [
    "mult_scalar(a, b)"
   ]
  },
  {
   "cell_type": "code",
   "execution_count": 6,
   "metadata": {
    "collapsed": true
   },
   "outputs": [],
   "source": [
    "# define matrices as nested lists\n",
    "A = [[1, 2, 3],\n",
    "     [3, 4, 5]\n",
    "    ]\n",
    "B = [[1, 1],\n",
    "     [2, 3],\n",
    "     [5, 8]\n",
    "    ]"
   ]
  },
  {
   "cell_type": "code",
   "execution_count": null,
   "metadata": {
    "collapsed": true
   },
   "outputs": [],
   "source": [
    "def mult_mat(A, B):\n",
    "    #do domu\n",
    "    return C"
   ]
  },
  {
   "cell_type": "code",
   "execution_count": 21,
   "metadata": {
    "collapsed": false
   },
   "outputs": [],
   "source": [
    "def mat_transpose(M):    \n",
    "    return "
   ]
  },
  {
   "cell_type": "code",
   "execution_count": null,
   "metadata": {
    "collapsed": false
   },
   "outputs": [],
   "source": [
    "%timeit mat_transpose(A)"
   ]
  },
  {
   "cell_type": "code",
   "execution_count": null,
   "metadata": {
    "collapsed": false,
    "scrolled": true
   },
   "outputs": [],
   "source": [
    "assert mat_transpose(A) == [[1, 3],\n",
    "                            [2, 4],\n",
    "                            [3, 5]]"
   ]
  },
  {
   "cell_type": "markdown",
   "metadata": {},
   "source": [
    "## NumPy\n"
   ]
  },
  {
   "cell_type": "code",
   "execution_count": 1,
   "metadata": {
    "collapsed": true
   },
   "outputs": [],
   "source": [
    "import numpy as np"
   ]
  },
  {
   "cell_type": "markdown",
   "metadata": {
    "collapsed": true
   },
   "source": [
    "W NumPy glowna struktura danych jest `numpy.ndarray` - pozwala na zapisywanie wektorow, macierzy i tenzorow."
   ]
  },
  {
   "cell_type": "code",
   "execution_count": 10,
   "metadata": {
    "collapsed": false
   },
   "outputs": [],
   "source": [
    "a = np.array([[1, 2, 3], [4, 5, 6]])\n",
    " # sprobujcie zmienic argumenty"
   ]
  },
  {
   "cell_type": "markdown",
   "metadata": {},
   "source": [
    "zbadamy niektore wlasciwosci objektu:"
   ]
  },
  {
   "cell_type": "code",
   "execution_count": 11,
   "metadata": {
    "collapsed": false
   },
   "outputs": [
    {
     "data": {
      "text/plain": [
       "(2, 3)"
      ]
     },
     "execution_count": 11,
     "metadata": {},
     "output_type": "execute_result"
    }
   ],
   "source": [
    "a.shape"
   ]
  },
  {
   "cell_type": "code",
   "execution_count": 12,
   "metadata": {
    "collapsed": false
   },
   "outputs": [
    {
     "data": {
      "text/plain": [
       "2"
      ]
     },
     "execution_count": 12,
     "metadata": {},
     "output_type": "execute_result"
    }
   ],
   "source": [
    "a.ndim"
   ]
  },
  {
   "cell_type": "code",
   "execution_count": 13,
   "metadata": {
    "collapsed": false
   },
   "outputs": [
    {
     "data": {
      "text/plain": [
       "'int32'"
      ]
     },
     "execution_count": 13,
     "metadata": {},
     "output_type": "execute_result"
    }
   ],
   "source": [
    "a.dtype.name"
   ]
  },
  {
   "cell_type": "code",
   "execution_count": 14,
   "metadata": {
    "collapsed": false
   },
   "outputs": [
    {
     "data": {
      "text/plain": [
       "6"
      ]
     },
     "execution_count": 14,
     "metadata": {},
     "output_type": "execute_result"
    }
   ],
   "source": [
    "a.size"
   ]
  },
  {
   "cell_type": "markdown",
   "metadata": {},
   "source": [
    "##### wygodne tworzenie:\n",
    "- np.zeros( (a,b) )\n",
    "- np.ones( (a,b,c, ...)) \n",
    "- np.empty( (a,b, ..) )  \n",
    "- np.arange( 0, 20, 0.2 ) "
   ]
  },
  {
   "cell_type": "markdown",
   "metadata": {},
   "source": [
    "##### Sprobujcie stworzyc dwie zmiennych A i B jako 'arrays'\n",
    "\n",
    "jaki wyniki beda dla:\n",
    "- A + B\n",
    "- A * 2\n",
    "- A * B\n",
    "- np.sin(A)\n",
    "- A.dot(B)\n",
    "- np.dot(A, B)\n",
    "- A.T\n",
    "- A.mean() # zwrocic uwage na wynik"
   ]
  },
  {
   "cell_type": "code",
   "execution_count": 54,
   "metadata": {
    "collapsed": false
   },
   "outputs": [
    {
     "data": {
      "text/plain": [
       "array([  0. ,   0.2,   0.4,   0.6,   0.8,   1. ,   1.2,   1.4,   1.6,\n",
       "         1.8,   2. ,   2.2,   2.4,   2.6,   2.8,   3. ,   3.2,   3.4,\n",
       "         3.6,   3.8,   4. ,   4.2,   4.4,   4.6,   4.8,   5. ,   5.2,\n",
       "         5.4,   5.6,   5.8,   6. ,   6.2,   6.4,   6.6,   6.8,   7. ,\n",
       "         7.2,   7.4,   7.6,   7.8,   8. ,   8.2,   8.4,   8.6,   8.8,\n",
       "         9. ,   9.2,   9.4,   9.6,   9.8,  10. ,  10.2,  10.4,  10.6,\n",
       "        10.8,  11. ,  11.2,  11.4,  11.6,  11.8,  12. ,  12.2,  12.4,\n",
       "        12.6,  12.8,  13. ,  13.2,  13.4,  13.6,  13.8,  14. ,  14.2,\n",
       "        14.4,  14.6,  14.8,  15. ,  15.2,  15.4,  15.6,  15.8,  16. ,\n",
       "        16.2,  16.4,  16.6,  16.8,  17. ,  17.2,  17.4,  17.6,  17.8,\n",
       "        18. ,  18.2,  18.4,  18.6,  18.8,  19. ,  19.2,  19.4,  19.6,  19.8])"
      ]
     },
     "execution_count": 54,
     "metadata": {},
     "output_type": "execute_result"
    }
   ],
   "source": [
    "A = np.array([1, 2, 3, 4, 5, 6])\n",
    "B = np.array([10, 20, 30, 40, 50, 50])\n",
    "C = np.arange(0, 20, 0.2)\n",
    "C"
   ]
  },
  {
   "cell_type": "code",
   "execution_count": 35,
   "metadata": {
    "collapsed": false,
    "scrolled": true
   },
   "outputs": [
    {
     "name": "stdout",
     "output_type": "stream",
     "text": [
      "The slowest run took 39.50 times longer than the fastest. This could mean that an intermediate result is being cached.\n",
      "1000000 loops, best of 3: 135 ns per loop\n"
     ]
    }
   ],
   "source": [
    "# porownajcie wydajnosc waszych funkcji z Numpy\n",
    "%timeit A.T"
   ]
  },
  {
   "cell_type": "code",
   "execution_count": 36,
   "metadata": {
    "collapsed": false
   },
   "outputs": [
    {
     "name": "stdout",
     "output_type": "stream",
     "text": [
      "The slowest run took 7.53 times longer than the fastest. This could mean that an intermediate result is being cached.\n",
      "100000 loops, best of 3: 3.74 µs per loop\n"
     ]
    }
   ],
   "source": [
    "# zrobcie to samo z `mult_mat()` `mult_scalar()`\n",
    "%timeit mult_scalar(A, B)"
   ]
  },
  {
   "cell_type": "code",
   "execution_count": 37,
   "metadata": {
    "collapsed": false
   },
   "outputs": [
    {
     "name": "stdout",
     "output_type": "stream",
     "text": [
      "The slowest run took 57.81 times longer than the fastest. This could mean that an intermediate result is being cached.\n",
      "1000000 loops, best of 3: 552 ns per loop\n"
     ]
    }
   ],
   "source": [
    "%timeit A * B"
   ]
  },
  {
   "cell_type": "code",
   "execution_count": 38,
   "metadata": {
    "collapsed": false
   },
   "outputs": [
    {
     "data": {
      "text/plain": [
       "array([ 10,  40,  90, 160, 250, 300])"
      ]
     },
     "execution_count": 38,
     "metadata": {},
     "output_type": "execute_result"
    }
   ],
   "source": [
    "A * B"
   ]
  },
  {
   "cell_type": "markdown",
   "metadata": {},
   "source": [
    "##### Indeksy\n",
    "\n",
    "w NumPy latwo pracowac na dowolnych czesciach maciarzy, sprobujcie:\n",
    "- A[:, :]\n",
    "- A[:, -1]\n",
    "- A < 3"
   ]
  },
  {
   "cell_type": "markdown",
   "metadata": {
    "collapsed": true
   },
   "source": [
    "##### Rozne manipulacje:\n",
    "- A.ravel()\n",
    "- A.shape = (6, 2)\n",
    "- A.reshape(3,-1)\n",
    "- np.vstack((A,B))\n",
    "- np.hstack((A,B))"
   ]
  },
  {
   "cell_type": "markdown",
   "metadata": {},
   "source": [
    "##### Przyklady uzycia"
   ]
  },
  {
   "cell_type": "code",
   "execution_count": 15,
   "metadata": {
    "collapsed": true
   },
   "outputs": [],
   "source": [
    "%matplotlib inline555"
   ]
  },
  {
   "cell_type": "code",
   "execution_count": null,
   "metadata": {
    "collapsed": true
   },
   "outputs": [],
   "source": [
    "import matplotlib.pyplot as plt"
   ]
  },
  {
   "cell_type": "code",
   "execution_count": null,
   "metadata": {
    "collapsed": true
   },
   "outputs": [],
   "source": [
    "import matplotlib.image as mpimg"
   ]
  },
  {
   "cell_type": "markdown",
   "metadata": {
    "collapsed": true
   },
   "source": [
    "###### przyklad prostych opercji na macierzach"
   ]
  },
  {
   "cell_type": "code",
   "execution_count": null,
   "metadata": {
    "collapsed": true
   },
   "outputs": [],
   "source": [
    "img=mpimg.imread('<dowolny plik png na komputerze>')  # "
   ]
  },
  {
   "cell_type": "code",
   "execution_count": null,
   "metadata": {
    "collapsed": false
   },
   "outputs": [],
   "source": [
    "imgplot = plt.imshow(img)"
   ]
  },
  {
   "cell_type": "code",
   "execution_count": null,
   "metadata": {
    "collapsed": false
   },
   "outputs": [],
   "source": [
    "img.shape  # notice last dimension: it's important in this PNG file"
   ]
  },
  {
   "cell_type": "code",
   "execution_count": null,
   "metadata": {
    "collapsed": false
   },
   "outputs": [],
   "source": [
    "blue_img = img[:,:,2]  \n",
    "plt.imshow(blue_img, cmap=\"hot\")\n",
    "plt.colorbar()  # for interested - http://matplotlib.org/examples/color/colormaps_reference.html"
   ]
  },
  {
   "cell_type": "code",
   "execution_count": null,
   "metadata": {
    "collapsed": false
   },
   "outputs": [],
   "source": [
    "gray_img = img.mean(axis=2)\n",
    "plt.imshow(gray_img, cmap=\"Greys\")\n",
    "plt.colorbar()"
   ]
  },
  {
   "cell_type": "code",
   "execution_count": null,
   "metadata": {
    "collapsed": false
   },
   "outputs": [],
   "source": [
    "gray_img.shape"
   ]
  },
  {
   "cell_type": "markdown",
   "metadata": {
    "collapsed": true
   },
   "source": [
    "###### Prosty przyklad mnozenia macierzy\n",
    "- zauwazymy transformacje wspolrzednych"
   ]
  },
  {
   "cell_type": "code",
   "execution_count": null,
   "metadata": {
    "collapsed": true
   },
   "outputs": [],
   "source": [
    "fg = np.array([[1, 1, 1],\n",
    "               [1.2, 1, 1],\n",
    "               [1.5, 1, 1],\n",
    "               [1.8, 1, 1],\n",
    "               [2, 2, 1],\n",
    "               [2, 1.2, 1],\n",
    "               [2, 1.6, 1],\n",
    "               [2, 1.8, 1],\n",
    "               [2, 1, 1]\n",
    "     ])"
   ]
  },
  {
   "cell_type": "code",
   "execution_count": null,
   "metadata": {
    "collapsed": false
   },
   "outputs": [],
   "source": []
  },
  {
   "cell_type": "code",
   "execution_count": null,
   "metadata": {
    "collapsed": false
   },
   "outputs": [],
   "source": [
    "plt.scatter(x=fg[:,0], y=fg[:,1], marker='o')"
   ]
  },
  {
   "cell_type": "code",
   "execution_count": null,
   "metadata": {
    "collapsed": false
   },
   "outputs": [],
   "source": [
    "transform = np.array([[1, 0.2, 0], [0, -0.5, 0], [0, 0.5, 1]])"
   ]
  },
  {
   "cell_type": "code",
   "execution_count": null,
   "metadata": {
    "collapsed": true
   },
   "outputs": [],
   "source": [
    "tf_fg = (transform * np.asmatrix(fg).T).T"
   ]
  },
  {
   "cell_type": "code",
   "execution_count": null,
   "metadata": {
    "collapsed": false
   },
   "outputs": [],
   "source": []
  },
  {
   "cell_type": "code",
   "execution_count": null,
   "metadata": {
    "collapsed": false
   },
   "outputs": [],
   "source": [
    "plt.scatter(x=tf_fg[:,0], y=tf_fg[:,1], marker='o')"
   ]
  },
  {
   "cell_type": "raw",
   "metadata": {},
   "source": [
    "# sprobujcie zmienic `fg` ta `transform` i popatrzec na zmiany wykresu"
   ]
  },
  {
   "cell_type": "code",
   "execution_count": null,
   "metadata": {
    "collapsed": true
   },
   "outputs": [],
   "source": []
  },
  {
   "cell_type": "markdown",
   "metadata": {},
   "source": [
    "  ### Macierz odwrotna\n",
    "  \n",
    "  $$AB=BA=I$$\n",
    "$$B=A^{-1}$$\n",
    "\n",
    "Macierzą **osobliwą** albo **zdegenerowaną** nazywa się macierz o wyznaczniku nieodwracalnym (zerowym)\n",
    "    \n",
    "Macierz kwadratowa nad pierścieniem przemiennym jest odwracalna wtedy, gdy jest ona nieosobliwa\n"
   ]
  },
  {
   "cell_type": "markdown",
   "metadata": {},
   "source": [
    "Uzytecznym pojeciem jest **baza** wektorovej przestrzeni:\n",
    "\n",
    "> Baza przestrzeni $ \\mathbb {V} $ to maksymalny, liniowo niezależny, podzbiór wektorów tej przestrzeni\n",
    "\n",
    "\n",
    "kozen wektor mozna przedstwaic jako kombinacjie liniowa, n.p. w przestrzeni $\\mathbb{R}^3$: $\\vec a = \\sum_{i=1}^3 a_i\\vec e_i$, gdzie\n",
    "\n",
    "\n",
    "\n",
    "\\begin{equation}\n",
    "\\vec e_1 = \\left( \\begin{matrix} 1 \\\\ 0 \\\\ 0 \\end{matrix} \\right),\\,\n",
    "\\vec e_2 = \\left( \\begin{matrix} 0 \\\\ 1 \\\\ 0 \\end{matrix} \\right),\n",
    "\\vec e_3 = \\left( \\begin{matrix} 0 \\\\ 0 \\\\ 1 \\end{matrix} \\right)\n",
    "\\end{equation}\n",
    "(niekoniecznie z \"1\" i \"0\")\n",
    "\n",
    "\n",
    "\n",
    "> From 'The invertible matrix theorem': The columns of $\\mathbf{A}$ ($\\mathbf{A}$ - nonsingular matrix) are linearly independent - form basis of $K^n$.\n",
    "\n",
    "\n",
    "\n",
    "\n"
   ]
  },
  {
   "cell_type": "markdown",
   "metadata": {},
   "source": [
    "#### Macierz odwrotna - obliczanie\n",
    "$$A^{-1}={A^{D} \\over \\det A}$$\n",
    "\n",
    "$A^{D}$  - jest macierzą dołączoną:\n",
    "$$\\mathbf {A} ^{\\mathrm {D} }=[A_{ij}]^{\\mathrm {T} }=[A_{ji}]$$\n",
    "$$A_{ij}=(-1)^{i+j}\\det {}_{ij}\\ \\mathbf {A}$$"
   ]
  },
  {
   "cell_type": "markdown",
   "metadata": {
    "collapsed": true
   },
   "source": [
    "### Rozkład według wartości osobliwych (SVD)\n",
    "\n",
    "to wygodna metoda pracy z macierzami. Pokazuje geometryczne struktury macierzy i pozwala na wizualizację dostępnych danych. Rozkład według wartości osobliwych jest stosowany w rozwiązywaniu różnorodnych problemów - od metody najmniejszych kwadratów i rozwiązywania układów równań do kompresji obrazow. SVD pozwala obliczyć odwrotne i pseudoodwrotne macierze dużych rozmiarów, co czyni go użytecznym narzędziem do rozwiązywania problemów związanych z analizą danych.\n",
    "\n",
    "\n",
    "Każdą macierz rzeczywistą A można przedstawić w postaci rozkładu SVD:\n",
    "\n",
    "$$\n",
    "A=U\\Sigma V^{T},\\!\n",
    "$$\n",
    "gdzie\n",
    "\n",
    "$U$ i $V$ - macierze ortogonalne (czyli $U^{-1}=U^{T}$ , $ V^{-1}=V^{T}$ ),\n",
    "\n",
    "$Σ$ - macierz diagonalna (przekątniowa), taka że $ \\Sigma =diag(\\sigma _{i})$ , gdzie $ \\sigma _{i}$  - nieujemne wartości szczególne (osobliwe) macierzy $A$, zwyczajowo uporządkowane nierosnąco.\n",
    "\n",
    ">  expression $UΣV^∗$ can be intuitively interpreted as a composition of three geometrical transformations: a rotation or reflection, a scaling, and another rotation or reflection.\n",
    "\n",
    "> Since U and V∗ are unitary, the columns of each of them form a set of orthonormal vectors, which can be regarded as basis vectors.\n",
    "\n",
    "> столбцы матрицы $U$ являются собственными векторами матрицы $AA^T$, а квадраты сингулярных чисел $ \\Sigma =diag(\\sigma _{i})$ — ее собственными числами\n"
   ]
  },
  {
   "cell_type": "code",
   "execution_count": null,
   "metadata": {
    "collapsed": false
   },
   "outputs": [],
   "source": [
    "#Mamy macierz\n",
    "#\n",
    "check_matrix = np.array([[ 0.92632051,  0.79735959,  0.66304369],\n",
    "       [ 0.16380332,  0.4664927 ,  0.08088335],\n",
    "       [ 0.43217772,  0.30534049,  0.13684167]])\n"
   ]
  },
  {
   "cell_type": "code",
   "execution_count": null,
   "metadata": {
    "collapsed": true
   },
   "outputs": [],
   "source": [
    "# trzeba znalezc odwrotna macierz `check_matrix_inv` ta SVD dla check_matrix"
   ]
  },
  {
   "cell_type": "code",
   "execution_count": null,
   "metadata": {
    "collapsed": false
   },
   "outputs": [],
   "source": [
    "# ta linijka ma wykonywac sie bez bledow\n",
    "assert np.allclose(check_matrix_inv, np.array([[-0.72134978, -1.72035139,  4.51203354], [-0.23113576,  2.94509129, -0.62083242],[ 2.79393264, -1.13823571, -5.55704334]]))"
   ]
  },
  {
   "cell_type": "code",
   "execution_count": null,
   "metadata": {
    "collapsed": true
   },
   "outputs": [],
   "source": [
    "# zwrocic uwage na strukture macierzy, jaki sa wynikiem SVD"
   ]
  }
 ],
 "metadata": {
  "anaconda-cloud": {},
  "kernelspec": {
   "display_name": "Python [conda root]",
   "language": "python",
   "name": "conda-root-py"
  },
  "language_info": {
   "codemirror_mode": {
    "name": "ipython",
    "version": 3
   },
   "file_extension": ".py",
   "mimetype": "text/x-python",
   "name": "python",
   "nbconvert_exporter": "python",
   "pygments_lexer": "ipython3",
   "version": "3.5.2"
  }
 },
 "nbformat": 4,
 "nbformat_minor": 0
}
