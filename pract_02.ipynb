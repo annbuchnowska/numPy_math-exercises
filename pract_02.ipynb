{
 "cells": [
  {
   "cell_type": "markdown",
   "metadata": {
    "collapsed": true
   },
   "source": [
    "## Wektory i macierze - podstawowe operacje\n",
    "\n",
    "czesc 2"
   ]
  },
  {
   "cell_type": "markdown",
   "metadata": {},
   "source": [
    "## NumPy\n"
   ]
  },
  {
   "cell_type": "code",
   "execution_count": 2,
   "metadata": {
    "collapsed": true
   },
   "outputs": [],
   "source": [
    "import numpy as np"
   ]
  },
  {
   "cell_type": "markdown",
   "metadata": {
    "collapsed": true
   },
   "source": [
    "W NumPy glowna struktura danych jest `numpy.ndarray` - pozwala na zapisywanie wektorow, macierzy i tenzorow."
   ]
  },
  {
   "cell_type": "code",
   "execution_count": 16,
   "metadata": {
    "collapsed": false
   },
   "outputs": [],
   "source": [
    "a = np.array([[1, 2, 3], [4,5,6],[7,8,9]])"
   ]
  },
  {
   "cell_type": "markdown",
   "metadata": {},
   "source": [
    "niektore wlasciwosci objektu"
   ]
  },
  {
   "cell_type": "code",
   "execution_count": 11,
   "metadata": {
    "collapsed": false
   },
   "outputs": [
    {
     "data": {
      "text/plain": [
       "(3, 3)"
      ]
     },
     "execution_count": 11,
     "metadata": {},
     "output_type": "execute_result"
    }
   ],
   "source": [
    "a.shape"
   ]
  },
  {
   "cell_type": "code",
   "execution_count": 12,
   "metadata": {
    "collapsed": false
   },
   "outputs": [
    {
     "data": {
      "text/plain": [
       "2"
      ]
     },
     "execution_count": 12,
     "metadata": {},
     "output_type": "execute_result"
    }
   ],
   "source": [
    "a.ndim\n"
   ]
  },
  {
   "cell_type": "code",
   "execution_count": 15,
   "metadata": {
    "collapsed": false
   },
   "outputs": [
    {
     "data": {
      "text/plain": [
       "'str352'"
      ]
     },
     "execution_count": 15,
     "metadata": {},
     "output_type": "execute_result"
    }
   ],
   "source": [
    "a.dtype.name"
   ]
  },
  {
   "cell_type": "code",
   "execution_count": 17,
   "metadata": {
    "collapsed": false
   },
   "outputs": [
    {
     "data": {
      "text/plain": [
       "9"
      ]
     },
     "execution_count": 17,
     "metadata": {},
     "output_type": "execute_result"
    }
   ],
   "source": [
    "a.size"
   ]
  },
  {
   "cell_type": "code",
   "execution_count": 18,
   "metadata": {
    "collapsed": false
   },
   "outputs": [
    {
     "name": "stdout",
     "output_type": "stream",
     "text": [
      "class:  ndarray\n",
      "shape:  (3, 3)\n",
      "strides:  (12, 4)\n",
      "itemsize:  4\n",
      "aligned:  True\n",
      "contiguous:  True\n",
      "fortran:  False\n",
      "data pointer: 0x27f08155040\n",
      "byteorder:  little\n",
      "byteswap:  False\n",
      "type: int32\n"
     ]
    }
   ],
   "source": [
    "np.info(a)"
   ]
  },
  {
   "cell_type": "code",
   "execution_count": 20,
   "metadata": {
    "collapsed": false
   },
   "outputs": [
    {
     "data": {
      "text/plain": [
       "36"
      ]
     },
     "execution_count": 20,
     "metadata": {},
     "output_type": "execute_result"
    }
   ],
   "source": [
    "a.nbytes"
   ]
  },
  {
   "cell_type": "code",
   "execution_count": 22,
   "metadata": {
    "collapsed": true
   },
   "outputs": [],
   "source": [
    "a = np.arange( 0, 20, 0.2 )"
   ]
  },
  {
   "cell_type": "code",
   "execution_count": 24,
   "metadata": {
    "collapsed": false
   },
   "outputs": [
    {
     "data": {
      "text/plain": [
       "array([  0. ,   0.2,   0.4,   0.6,   0.8,   1. ,   1.2,   1.4,   1.6,\n",
       "         1.8,   2. ,   2.2,   2.4,   2.6,   2.8,   3. ,   3.2,   3.4,\n",
       "         3.6,   3.8,   4. ,   4.2,   4.4,   4.6,   4.8,   5. ,   5.2,\n",
       "         5.4,   5.6,   5.8,   6. ,   6.2,   6.4,   6.6,   6.8,   7. ,\n",
       "         7.2,   7.4,   7.6,   7.8,   8. ,   8.2,   8.4,   8.6,   8.8,\n",
       "         9. ,   9.2,   9.4,   9.6,   9.8,  10. ,  10.2,  10.4,  10.6,\n",
       "        10.8,  11. ,  11.2,  11.4,  11.6,  11.8,  12. ,  12.2,  12.4,\n",
       "        12.6,  12.8,  13. ,  13.2,  13.4,  13.6,  13.8,  14. ,  14.2,\n",
       "        14.4,  14.6,  14.8,  15. ,  15.2,  15.4,  15.6,  15.8,  16. ,\n",
       "        16.2,  16.4,  16.6,  16.8,  17. ,  17.2,  17.4,  17.6,  17.8,\n",
       "        18. ,  18.2,  18.4,  18.6,  18.8,  19. ,  19.2,  19.4,  19.6,  19.8])"
      ]
     },
     "execution_count": 24,
     "metadata": {},
     "output_type": "execute_result"
    }
   ],
   "source": [
    "a"
   ]
  },
  {
   "cell_type": "code",
   "execution_count": 27,
   "metadata": {
    "collapsed": false
   },
   "outputs": [],
   "source": [
    "b = np.arange(3,20,2).reshape(3,3)"
   ]
  },
  {
   "cell_type": "code",
   "execution_count": 30,
   "metadata": {
    "collapsed": false
   },
   "outputs": [
    {
     "data": {
      "text/plain": [
       "array([[ 3,  5,  7],\n",
       "       [ 9, 11, 13],\n",
       "       [15, 17, 19]])"
      ]
     },
     "execution_count": 30,
     "metadata": {},
     "output_type": "execute_result"
    }
   ],
   "source": [
    "b"
   ]
  },
  {
   "cell_type": "code",
   "execution_count": 32,
   "metadata": {
    "collapsed": true
   },
   "outputs": [],
   "source": [
    "c = np.random.randn(4,4)"
   ]
  },
  {
   "cell_type": "code",
   "execution_count": 33,
   "metadata": {
    "collapsed": false
   },
   "outputs": [
    {
     "data": {
      "text/plain": [
       "array([[-0.34801463,  0.03676954,  0.72792712,  0.36324342],\n",
       "       [ 0.88749137,  0.22088368, -0.20616465,  0.10976325],\n",
       "       [-1.75947237, -1.0050767 ,  0.53765449, -0.06860209],\n",
       "       [ 0.28434373, -1.07411194, -0.49229205,  1.40173906]])"
      ]
     },
     "execution_count": 33,
     "metadata": {},
     "output_type": "execute_result"
    }
   ],
   "source": [
    "c"
   ]
  },
  {
   "cell_type": "code",
   "execution_count": null,
   "metadata": {
    "collapsed": true
   },
   "outputs": [],
   "source": []
  },
  {
   "cell_type": "markdown",
   "metadata": {},
   "source": [
    "wygodne tworzenie:\n",
    "- np.zeros( (a,b) )\n",
    "- np.ones( (a,b,c, ...)) \n",
    "- np.empty( (a,b, ..) )  \n",
    "- np.arange( 0, 20, 0.2 ) \n",
    "- np.random.randn(a, b)"
   ]
  },
  {
   "cell_type": "markdown",
   "metadata": {},
   "source": [
    "##### Sprobujcie stworzyc dwie zmiennych A i B jako 'arrays'\n",
    "\n",
    "jaki wyniki beda dla:\n",
    "- A + B\n",
    "- A * 2\n",
    "- A * B\n",
    "- np.sin(A)\n",
    "- A.dot(B)\n",
    "- np.dot(A, B)\n",
    "- A.T\n",
    "- A.mean() # zwrocic uwage na wynik"
   ]
  },
  {
   "cell_type": "markdown",
   "metadata": {},
   "source": [
    "##### Indeksy\n",
    "\n",
    "w NumPy latwo pracowac na dowolnych czesciach macierzy, sprobujcie:\n",
    "- A[:, :]\n",
    "- A[:, -1]\n",
    "- A < 3"
   ]
  },
  {
   "cell_type": "markdown",
   "metadata": {
    "collapsed": true
   },
   "source": [
    "##### Rozne manipulacje:\n",
    "- A.ravel()\n",
    "- A.shape\n",
    "- A.reshape(3,-1)\n",
    "- np.vstack((A,B))\n",
    "- np.hstack((A,B))"
   ]
  },
  {
   "cell_type": "markdown",
   "metadata": {
    "collapsed": true
   },
   "source": [
    "###### prosty przyklad mnozenia macierzy i wizualizacji wynikow"
   ]
  },
  {
   "cell_type": "code",
   "execution_count": 34,
   "metadata": {
    "collapsed": true
   },
   "outputs": [],
   "source": [
    "fg = np.array([[1, 1, 1],\n",
    "               [1.2, 1, 1],\n",
    "               [1.5, 1, 1],\n",
    "               [1.8, 1, 1],\n",
    "               [2, 2, 1],\n",
    "               [2, 1.2, 1],\n",
    "               [2, 1.6, 1],\n",
    "               [2, 1.8, 1],\n",
    "               [2, 1, 1]\n",
    "     ])"
   ]
  },
  {
   "cell_type": "code",
   "execution_count": 36,
   "metadata": {
    "collapsed": false
   },
   "outputs": [],
   "source": [
    "%matplotlib inline \n",
    "#ukazuje obrazy bezpośrednio w komórkach jupytera, inne opcje np notebook (skalowalne), "
   ]
  },
  {
   "cell_type": "code",
   "execution_count": 38,
   "metadata": {
    "collapsed": true
   },
   "outputs": [],
   "source": [
    "import matplotlib.pyplot as plt"
   ]
  },
  {
   "cell_type": "code",
   "execution_count": 40,
   "metadata": {
    "collapsed": false
   },
   "outputs": [
    {
     "data": {
      "text/plain": [
       "<matplotlib.collections.PathCollection at 0x27f0eb9cfd0>"
      ]
     },
     "execution_count": 40,
     "metadata": {},
     "output_type": "execute_result"
    },
    {
     "data": {
      "image/png": "[encoded data removed]",
      "text/plain": [
       "<matplotlib.figure.Figure at 0x27f0e3507f0>"
      ]
     },
     "metadata": {},
     "output_type": "display_data"
    }
   ],
   "source": [
    "plt.scatter(x=fg[:,0], y=fg[:,1], marker='x')"
   ]
  },
  {
   "cell_type": "code",
   "execution_count": 41,
   "metadata": {
    "collapsed": false
   },
   "outputs": [],
   "source": [
    "transform = np.array([[1, 0.2, 0], [0, -0.5, 0], [0, 0.5, 1]])"
   ]
  },
  {
   "cell_type": "code",
   "execution_count": 42,
   "metadata": {
    "collapsed": true
   },
   "outputs": [],
   "source": [
    "tf_fg = (transform * np.asmatrix(fg).T).T"
   ]
  },
  {
   "cell_type": "code",
   "execution_count": null,
   "metadata": {
    "collapsed": false
   },
   "outputs": [],
   "source": []
  },
  {
   "cell_type": "code",
   "execution_count": 43,
   "metadata": {
    "collapsed": false
   },
   "outputs": [
    {
     "data": {
      "text/plain": [
       "<matplotlib.collections.PathCollection at 0x27f0ec15160>"
      ]
     },
     "execution_count": 43,
     "metadata": {},
     "output_type": "execute_result"
    },
    {
     "data": {
      "image/png": "[encoded data removed]",
      "text/plain": [
       "<matplotlib.figure.Figure at 0x27f0ebae710>"
      ]
     },
     "metadata": {},
     "output_type": "display_data"
    }
   ],
   "source": [
    "plt.scatter(x=tf_fg[:,0], y=tf_fg[:,1], marker='o')"
   ]
  },
  {
   "cell_type": "raw",
   "metadata": {},
   "source": [
    "# sprobujcie zmienic `fg` ta `transform` i popatrzec na zmiany wykresu"
   ]
  },
  {
   "cell_type": "code",
   "execution_count": null,
   "metadata": {
    "collapsed": true
   },
   "outputs": [],
   "source": []
  },
  {
   "cell_type": "markdown",
   "metadata": {},
   "source": [
    "  ### Macierz odwrotna\n",
    "  \n",
    "  $$AB=BA=I$$\n",
    "$$B=A^{-1}$$\n",
    "\n",
    "Macierzą **osobliwą** albo **zdegenerowaną** nazywa się macierz o wyznaczniku nieodwracalnym (zerowym)\n",
    "    \n",
    "Macierz kwadratowa nad pierścieniem przemiennym jest odwracalna wtedy, gdy jest ona nieosobliwa\n"
   ]
  },
  {
   "cell_type": "markdown",
   "metadata": {},
   "source": [
    "Uzytecznym pojeciem jest **baza** wektorovej przestrzeni:\n",
    "\n",
    "> Baza przestrzeni $ \\mathbb {V} $ to maksymalny, liniowo niezależny, podzbiór wektorów tej przestrzeni\n",
    "\n",
    "\n",
    "kozen wektor mozna przedstwaic jako kombinacjie liniowa, n.p. w przestrzeni $\\mathbb{R}^3$: $\\vec a = \\sum_{i=1}^3 a_i\\vec e_i$, gdzie\n",
    "\n",
    "\n",
    "\n",
    "\\begin{equation}\n",
    "\\vec e_1 = \\left( \\begin{matrix} 1 \\\\ 0 \\\\ 0 \\end{matrix} \\right),\\,\n",
    "\\vec e_2 = \\left( \\begin{matrix} 0 \\\\ 1 \\\\ 0 \\end{matrix} \\right),\n",
    "\\vec e_3 = \\left( \\begin{matrix} 0 \\\\ 0 \\\\ 1 \\end{matrix} \\right)\n",
    "\\end{equation}\n",
    "(niekoniecznie z \"1\" i \"0\")\n",
    "\n",
    "\n",
    "\n",
    "> From 'The invertible matrix theorem': The columns of $\\mathbf{A}$ ($\\mathbf{A}$ - nonsingular matrix) are linearly independent - form basis of $K^n$.\n",
    "\n",
    "\n",
    "\n",
    "\n"
   ]
  },
  {
   "cell_type": "markdown",
   "metadata": {},
   "source": [
    "#### Macierz odwrotna - obliczanie\n",
    "$$A^{-1}={A^{D} \\over \\det A}$$\n",
    "\n",
    "$A^{D}$  - jest macierzą dołączoną:\n",
    "$$\\mathbf {A} ^{\\mathrm {D} }=[A_{ij}]^{\\mathrm {T} }=[A_{ji}]$$\n",
    "$$A_{ij}=(-1)^{i+j}\\det {}_{ij}\\ \\mathbf {A}$$"
   ]
  },
  {
   "cell_type": "code",
   "execution_count": 44,
   "metadata": {
    "collapsed": false
   },
   "outputs": [],
   "source": [
    "#Mamy macierz\n",
    "#\n",
    "check_matrix = np.array([[ 0.92632051,  0.79735959,  0.66304369],\n",
    "       [ 0.16380332,  0.4664927 ,  0.08088335],\n",
    "       [ 0.43217772,  0.30534049,  0.13684167]])\n"
   ]
  },
  {
   "cell_type": "code",
   "execution_count": 48,
   "metadata": {
    "collapsed": false
   },
   "outputs": [
    {
     "data": {
      "text/plain": [
       "array([[-0.72134978, -1.72035139,  4.51203354],\n",
       "       [-0.23113576,  2.94509129, -0.62083242],\n",
       "       [ 2.79393264, -1.13823571, -5.55704334]])"
      ]
     },
     "execution_count": 48,
     "metadata": {},
     "output_type": "execute_result"
    }
   ],
   "source": [
    "# trzeba znalezc odwrotna macierz `check_matrix_inv` dla check_matrix\n",
    "check_matrix_inv = np.linalg.inv(check_matrix)\n",
    "check_matrix_inv"
   ]
  },
  {
   "cell_type": "code",
   "execution_count": 49,
   "metadata": {
    "collapsed": false
   },
   "outputs": [],
   "source": [
    "# ta linijka ma wykonywac sie bez bledow\n",
    "assert np.allclose(check_matrix_inv, np.array([[-0.72134978, -1.72035139,  4.51203354], [-0.23113576,  2.94509129, -0.62083242],[ 2.79393264, -1.13823571, -5.55704334]]))"
   ]
  },
  {
   "cell_type": "markdown",
   "metadata": {},
   "source": [
    "> Rząd (rank) macierzy - maksymalna liczba liniowo niezależnych wektorów czy wierszy tworzących kolumny danej macierzy.\n",
    "\n",
    "$ A = \\left( \\begin{array} {rrr} 1 &  2 & -1 \\\\ 0 &  3 &  0 \\\\ 1 & -1 & -1 \\end{array}  \\right)$.\n",
    "\n",
    "Wyznaczyć $\\text{rk} A$ (za pomoca operacji elementarnych).\n",
    "\n",
    "w NumPy jest `numpy.linalg.matrix_rank(M, tol=None)`"
   ]
  },
  {
   "cell_type": "code",
   "execution_count": 52,
   "metadata": {
    "collapsed": false
   },
   "outputs": [
    {
     "data": {
      "text/plain": [
       "2"
      ]
     },
     "execution_count": 52,
     "metadata": {},
     "output_type": "execute_result"
    }
   ],
   "source": [
    "A = np.array([[1, 2, -1],[0, 3, 0],[1, -1, -1]])\n",
    "rkA = np.linalg.matrix_rank(A, tol=None)\n",
    "rkA"
   ]
  },
  {
   "cell_type": "markdown",
   "metadata": {},
   "source": [
    "### Sprobujcie samodzielnie \n",
    "\n",
    "Dane są macierze\n",
    "\n",
    "\n",
    "\\begin{equation}\n",
    "A = \\left( \\begin{matrix}  1 &2& 3 \\\\ -1 &1&0  \\end{matrix} \\right), B = \\left( \\begin{matrix}  2&1 \\\\ -1&1 \\\\  0&3 \\end{matrix}  \\right). \n",
    "\\end{equation}\n",
    "\n",
    "Obliczyć $AB$ oraz $C=B^*A^*$ ($^*$ - Sprzężenie hermitowskie macierzy, bardziej czesto oznaczane jako - $^\\dagger$).\n",
    "\n",
    "Znalezc srednia $C$ po wierszam i po kolumnam.\n",
    "\n"
   ]
  },
  {
   "cell_type": "code",
   "execution_count": 71,
   "metadata": {
    "collapsed": false
   },
   "outputs": [
    {
     "data": {
      "text/plain": [
       "array([[ 1,  2,  3],\n",
       "       [-1,  1,  0]])"
      ]
     },
     "execution_count": 71,
     "metadata": {},
     "output_type": "execute_result"
    }
   ],
   "source": [
    "A = np.array([[1,2,3], [-1,1,0]])\n",
    "A"
   ]
  },
  {
   "cell_type": "code",
   "execution_count": 73,
   "metadata": {
    "collapsed": false
   },
   "outputs": [
    {
     "data": {
      "text/plain": [
       "array([[ 2,  1],\n",
       "       [-1,  1],\n",
       "       [ 0,  3]])"
      ]
     },
     "execution_count": 73,
     "metadata": {},
     "output_type": "execute_result"
    }
   ],
   "source": [
    "B = np.array([[2,1],[-1,1],[0,3]])\n",
    "B"
   ]
  },
  {
   "cell_type": "code",
   "execution_count": 74,
   "metadata": {
    "collapsed": false
   },
   "outputs": [
    {
     "data": {
      "text/plain": [
       "array([[ 1, -2, -3],\n",
       "       [ 5, -1,  3],\n",
       "       [ 6, -3,  0]], dtype=int32)"
      ]
     },
     "execution_count": 74,
     "metadata": {},
     "output_type": "execute_result"
    }
   ],
   "source": [
    "Asprzez = np.conj(A).T\n",
    "Bsprzez = np.conj(B).T\n",
    "C = Asprzez.dot(Bsprzez)\n",
    "C"
   ]
  },
  {
   "cell_type": "code",
   "execution_count": null,
   "metadata": {
    "collapsed": true
   },
   "outputs": [],
   "source": []
  },
  {
   "cell_type": "markdown",
   "metadata": {},
   "source": [
    "\\begin{equation}\n",
    "A = \\left( \\begin{matrix}  1 &2& 3 \\\\ -1 &1&0  \\\\ 4 & 2 & 8 \\end{matrix} \\right), B = \\left( \\begin{matrix}  2&1&7 \\\\ -1&1&6 \\\\  0&3 &1\\end{matrix}  \\right). \n",
    "\\end{equation}\n",
    "\n",
    "Wyznaczyć $AB$, $BA$, $A^{-1}$ oraz $B^{-1}$. Zbadać, czy $A^{-1}B^{-1} = (AB)^{-1}$."
   ]
  },
  {
   "cell_type": "code",
   "execution_count": 81,
   "metadata": {
    "collapsed": false
   },
   "outputs": [],
   "source": [
    "A = np.array([[1,2,3],[-1,1,0],[4,2,8]])\n",
    "B = np.array([[2,1,7],[-1,1,6],[0,3,1]])"
   ]
  },
  {
   "cell_type": "code",
   "execution_count": 83,
   "metadata": {
    "collapsed": false
   },
   "outputs": [
    {
     "data": {
      "text/plain": [
       "array([[ 0, 12, 22],\n",
       "       [-3,  0, -1],\n",
       "       [ 6, 30, 48]])"
      ]
     },
     "execution_count": 83,
     "metadata": {},
     "output_type": "execute_result"
    }
   ],
   "source": [
    "ab = A.dot(B)\n",
    "ab"
   ]
  },
  {
   "cell_type": "code",
   "execution_count": 84,
   "metadata": {
    "collapsed": false
   },
   "outputs": [
    {
     "data": {
      "text/plain": [
       "array([[29, 19, 62],\n",
       "       [22, 11, 45],\n",
       "       [ 1,  5,  8]])"
      ]
     },
     "execution_count": 84,
     "metadata": {},
     "output_type": "execute_result"
    }
   ],
   "source": [
    "ba = B.dot(A)\n",
    "ba"
   ]
  },
  {
   "cell_type": "code",
   "execution_count": 88,
   "metadata": {
    "collapsed": false
   },
   "outputs": [
    {
     "data": {
      "text/plain": [
       "array([[ 1.33333333, -1.66666667, -0.5       ],\n",
       "       [ 1.33333333, -0.66666667, -0.5       ],\n",
       "       [-1.        ,  1.        ,  0.5       ]])"
      ]
     },
     "execution_count": 88,
     "metadata": {},
     "output_type": "execute_result"
    }
   ],
   "source": [
    "aT = np.linalg.inv(A)\n",
    "bT = np.linalg.inv(B)\n",
    "aT"
   ]
  },
  {
   "cell_type": "code",
   "execution_count": 144,
   "metadata": {
    "collapsed": false
   },
   "outputs": [
    {
     "ename": "SyntaxError",
     "evalue": "'return' outside function (<ipython-input-144-74578df40569>, line 2)",
     "output_type": "error",
     "traceback": [
      "\u001b[0;36m  File \u001b[0;32m\"<ipython-input-144-74578df40569>\"\u001b[0;36m, line \u001b[0;32m2\u001b[0m\n\u001b[0;31m    return True\u001b[0m\n\u001b[0m    ^\u001b[0m\n\u001b[0;31mSyntaxError\u001b[0m\u001b[0;31m:\u001b[0m 'return' outside function\n"
     ]
    }
   ],
   "source": [
    "if aT.dot(bT) == np.linalg.inv(ab)"
   ]
  },
  {
   "cell_type": "markdown",
   "metadata": {},
   "source": [
    "_bonus task_\n",
    "\n",
    "Dla ~10 kwadratowych macierzy rzendu od 2 do 1000 znalezc macierze odwrotne z pomiarem czasu wykonywania. Jak ten czas sie zmienia w zaleznosci od N? Zrobic wykres."
   ]
  },
  {
   "cell_type": "code",
   "execution_count": null,
   "metadata": {
    "collapsed": true
   },
   "outputs": [],
   "source": []
  },
  {
   "cell_type": "markdown",
   "metadata": {
    "collapsed": true
   },
   "source": [
    "### Rozkład według wartości osobliwych (SVD)\n",
    "\n",
    "to wygodna metoda pracy z macierzami. Pokazuje geometryczne struktury macierzy i pozwala na wizualizację dostępnych danych. Rozkład według wartości osobliwych jest stosowany w rozwiązywaniu różnorodnych problemów - od metody najmniejszych kwadratów i rozwiązywania układów równań do kompresji obrazow. SVD pozwala obliczyć odwrotne i pseudoodwrotne macierze dużych rozmiarów, co czyni go użytecznym narzędziem do rozwiązywania problemów związanych z analizą danych.\n",
    "\n",
    "\n",
    "Każdą macierz rzeczywistą A można przedstawić w postaci rozkładu SVD:\n",
    "\n",
    "$$\n",
    "A=U\\Sigma V^{T},\\!\n",
    "$$\n",
    "gdzie\n",
    "\n",
    "$U$ i $V$ - macierze ortogonalne (czyli $U^{-1}=U^{T}$ , $ V^{-1}=V^{T}$ ),\n",
    "\n",
    "$Σ$ - macierz diagonalna (przekątniowa), taka że $ \\Sigma =diag(\\sigma _{i})$ , gdzie $ \\sigma _{i}$  - nieujemne wartości szczególne (osobliwe) macierzy $A$, zwyczajowo uporządkowane nierosnąco.\n",
    "\n",
    ">  expression $UΣV^∗$ can be intuitively interpreted as a composition of three geometrical transformations: a rotation or reflection, a scaling, and another rotation or reflection.\n",
    "\n",
    "> Since U and V∗ are unitary, the columns of each of them form a set of orthonormal vectors, which can be regarded as basis vectors.\n",
    "\n",
    "> kolumny macierzy $U$ sa wlasnymi wektorami macierzy $AA^T$, а kwadraty wartości szczególnych $ \\Sigma =diag(\\sigma _{i})$ — ja wlasnymi wartosciami.\n"
   ]
  },
  {
   "cell_type": "code",
   "execution_count": 89,
   "metadata": {
    "collapsed": false
   },
   "outputs": [],
   "source": [
    "#Mamy macierz\n",
    "#\n",
    "check_matrix = np.array([[ 0.92632051,  0.79735959,  0.66304369],\n",
    "       [ 0.16380332,  0.4664927 ,  0.08088335],\n",
    "       [ 0.43217772,  0.30534049,  0.13684167]])\n"
   ]
  },
  {
   "cell_type": "code",
   "execution_count": 90,
   "metadata": {
    "collapsed": true
   },
   "outputs": [],
   "source": [
    "# trzeba znalezc SVD dla check_matrix\n",
    "u, s, v = np.linalg.svd(check_matrix)"
   ]
  },
  {
   "cell_type": "code",
   "execution_count": null,
   "metadata": {
    "collapsed": true
   },
   "outputs": [],
   "source": [
    "# zwrocic uwage na strukture macierzy, jaki sa wynikiem SVD"
   ]
  },
  {
   "cell_type": "code",
   "execution_count": 92,
   "metadata": {
    "collapsed": false
   },
   "outputs": [
    {
     "data": {
      "text/plain": [
       "array([[-0.89692408,  0.27649937, -0.34507287],\n",
       "       [-0.27764718, -0.95952406, -0.04717658],\n",
       "       [-0.34415001,  0.0534947 ,  0.93738951]])"
      ]
     },
     "execution_count": 92,
     "metadata": {},
     "output_type": "execute_result"
    }
   ],
   "source": [
    "u"
   ]
  },
  {
   "cell_type": "code",
   "execution_count": null,
   "metadata": {
    "collapsed": true
   },
   "outputs": [],
   "source": [
    "#powyzsza jest ortogonalna (patrz przekątne)"
   ]
  },
  {
   "cell_type": "code",
   "execution_count": null,
   "metadata": {
    "collapsed": false
   },
   "outputs": [],
   "source": [
    "# sprawdzic ze U  i V - macierze ortogonalne (UU^T=1)"
   ]
  },
  {
   "cell_type": "code",
   "execution_count": 94,
   "metadata": {
    "collapsed": false
   },
   "outputs": [
    {
     "data": {
      "text/plain": [
       "array([[  1.00000000e+00,   3.40622909e-17,   3.13832784e-16],\n",
       "       [  3.40622909e-17,   1.00000000e+00,  -4.09853942e-17],\n",
       "       [  3.13832784e-16,  -4.09853942e-17,   1.00000000e+00]])"
      ]
     },
     "execution_count": 94,
     "metadata": {},
     "output_type": "execute_result"
    }
   ],
   "source": [
    "u.dot(u.T)\n",
    "#mamy 1 na przekatnej!!! na innych elementach mamy liczby, ktore sa bardzo bliskie zeru"
   ]
  },
  {
   "cell_type": "markdown",
   "metadata": {},
   "source": [
    "#### fajne ze w svd mozna zauwazyc to co ponizej, jesli mamy duza ilosc kolumn i wierszy ale niektore sa liniowo niezalezne to mozna obliczac ograniczone svd, z prawie ta samą dokładnościa. Kiedy to wszystko domnazamy do 1wsza kolumna macierzy bedzie domnazana na coraz mniejsza wartosc, jak ponizej s"
   ]
  },
  {
   "cell_type": "code",
   "execution_count": 96,
   "metadata": {
    "collapsed": false
   },
   "outputs": [
    {
     "data": {
      "text/plain": [
       "array([ 1.54726649,  0.26855183,  0.1305771 ])"
      ]
     },
     "execution_count": 96,
     "metadata": {},
     "output_type": "execute_result"
    }
   ],
   "source": [
    "s"
   ]
  },
  {
   "cell_type": "code",
   "execution_count": null,
   "metadata": {
    "collapsed": true
   },
   "outputs": [],
   "source": []
  },
  {
   "cell_type": "markdown",
   "metadata": {},
   "source": [
    "For $M$  $ m\\times n$  with rank $r$ often can be calculated reduced decomposition:\n",
    "\n",
    "$ M=U_{r} \\Sigma_{r}V_{r}^{*}.$\n",
    "\n",
    "Need to calculate $r$  columns of $U$  and $r$  rows of $V^{*}$ . Rest columns of $U$ and rows of $V^{*}$ not computed. This saves lots of memory when  $r<<n$ .\n",
    "\n"
   ]
  },
  {
   "cell_type": "code",
   "execution_count": 97,
   "metadata": {
    "collapsed": true
   },
   "outputs": [],
   "source": [
    "# sprawdzimy to\n",
    "\n",
    "# stworzymy macierz z r< n\n",
    "\n",
    "# sprawdzimy ze r<n\n",
    "\n",
    "# Porownamy\n",
    "# np.linalg.svd(a, full_matrices=True)\n",
    "# np.linalg.svd(a, full_matrices=False)\n",
    "# zwrocimy uwage na `shape`, info, `nbytes`"
   ]
  },
  {
   "cell_type": "markdown",
   "metadata": {},
   "source": [
    "### potrzbeujemy tworzyc macierz liniowo zalezna"
   ]
  },
  {
   "cell_type": "code",
   "execution_count": 125,
   "metadata": {
    "collapsed": false
   },
   "outputs": [],
   "source": [
    "a1 = np.random.randn(20,20)\n",
    "#randomowa macierz na pewno niezalezna"
   ]
  },
  {
   "cell_type": "code",
   "execution_count": 127,
   "metadata": {
    "collapsed": false
   },
   "outputs": [
    {
     "data": {
      "text/plain": [
       "(20, 40)"
      ]
     },
     "execution_count": 127,
     "metadata": {},
     "output_type": "execute_result"
    }
   ],
   "source": [
    "a2 = np.hstack((a1, a1*2))\n",
    "a2.shape\n",
    "#poziomowo dołączona to samo pomnozone na 2"
   ]
  },
  {
   "cell_type": "code",
   "execution_count": 128,
   "metadata": {
    "collapsed": false
   },
   "outputs": [
    {
     "data": {
      "text/plain": [
       "(40, 40)"
      ]
     },
     "execution_count": 128,
     "metadata": {},
     "output_type": "execute_result"
    }
   ],
   "source": [
    "a3 = np.vstack((a2, a2)) \n",
    "a3.shape\n",
    "#czyli ta sama macierz doklejona z dołu"
   ]
  },
  {
   "cell_type": "code",
   "execution_count": 129,
   "metadata": {
    "collapsed": false
   },
   "outputs": [],
   "source": [
    "u, s, v = np.linalg.svd(a3)"
   ]
  },
  {
   "cell_type": "code",
   "execution_count": 143,
   "metadata": {
    "collapsed": false
   },
   "outputs": [
    {
     "data": {
      "text/plain": [
       "array([  2.90142220e+01,   2.47073673e+01,   2.39603652e+01,\n",
       "         2.23405969e+01,   1.83996695e+01,   1.62763364e+01,\n",
       "         1.54771708e+01,   1.50349943e+01,   1.34698429e+01,\n",
       "         1.26514944e+01,   1.09358063e+01,   9.47305260e+00,\n",
       "         8.43681981e+00,   7.43910533e+00,   6.47474092e+00,\n",
       "         5.57253395e+00,   4.02359959e+00,   2.64386726e+00,\n",
       "         1.43073963e+00,   7.08387667e-01,   6.70363004e-15,\n",
       "         6.16987914e-15,   4.99838553e-15,   4.65168963e-15,\n",
       "         3.64096972e-15,   3.47499891e-15,   2.87720399e-15,\n",
       "         2.30030152e-15,   1.90409596e-15,   1.90409596e-15,\n",
       "         1.90409596e-15,   1.90409596e-15,   1.90409596e-15,\n",
       "         1.90409596e-15,   1.90409596e-15,   1.90409596e-15,\n",
       "         1.57011560e-15,   1.35775701e-15,   1.16875498e-15,\n",
       "         5.54329902e-16])"
      ]
     },
     "execution_count": 143,
     "metadata": {},
     "output_type": "execute_result"
    }
   ],
   "source": [
    "s"
   ]
  },
  {
   "cell_type": "markdown",
   "metadata": {},
   "source": [
    "> za pomoca svd mozna zmniejszyc ilosc wymiarow, jesli uzyjemy kilku linijek kodu to mozna poawic sie z obrazkami czyli zmniejszyc ilosc danych w obrazku prawie z ta samą jakościa. Wyciagamy najbardziej znaczace informacje"
   ]
  },
  {
   "cell_type": "code",
   "execution_count": null,
   "metadata": {
    "collapsed": true
   },
   "outputs": [],
   "source": []
  },
  {
   "cell_type": "code",
   "execution_count": 141,
   "metadata": {
    "collapsed": false
   },
   "outputs": [
    {
     "data": {
      "text/plain": [
       "(40,)"
      ]
     },
     "execution_count": 141,
     "metadata": {},
     "output_type": "execute_result"
    }
   ],
   "source": [
    "s.shape"
   ]
  },
  {
   "cell_type": "markdown",
   "metadata": {},
   "source": [
    "### PCA\n",
    "\n",
    ">Analiza głównych składowych (PCA) – jedna ze statystycznych metod analizy czynnikowej. Zbiór danych składający się z N obserwacji, z których każda obejmuje K zmiennych, można interpretować jako chmurę N punktów w przestrzeni K-wymiarowej. Celem PCA jest taki obrót układu współrzędnych, aby maksymalizować w pierwszej kolejności wariancję pierwszej współrzędnej, następnie wariancję drugiej współrzędnej, itd..\n",
    "\n",
    "\n",
    "<img src=\"https://upload.wikimedia.org/wikipedia/commons/8/82/PearsonFig.jpg\" width=\"50%\">\n",
    ">Pearson, K. 1901. On lines and planes of closest fit to systems of points in space. Philosophical Magazine 2:559-572."
   ]
  },
  {
   "cell_type": "markdown",
   "metadata": {},
   "source": [
    "PCA can be done by means of different algorythms. SVD can be used too:\n",
    "\n",
    "```\n",
    "    S = 2 # number of components to extract\n",
    "    U, s, V = np.linalg.svd( data )\n",
    "    Sig = np.mat(np.eye(S)*s[:S])\n",
    "    newU = U[:,:S]\n",
    "     \n",
    "    # retrieve transformed dataset from reduced matrices\n",
    "    # restored = U[:,:S]*Sig*V[:S,:]\n",
    "```"
   ]
  },
  {
   "cell_type": "markdown",
   "metadata": {},
   "source": [
    "_bonus_\n",
    "\n",
    "napisac funkcje, ktora zmniejsza N na macierzy, wygenerowac macierz i pobudowac wykres przed/po SVD\n",
    "\n",
    "_hint_ \n",
    "\n",
    "- bazujac na powyzszym;\n",
    "- macierz mozna zbudowac na podstwaie `randn`\n",
    "- do analizy mozna uzyc\n",
    "```\n",
    "imgplot = plt.imshow(a)\n",
    "plt.colorbar()\n",
    "plt.show()\n",
    "```\n",
    "i porownac obrazki\n",
    "- zamiast macierzy mozna pouzyc obrazek"
   ]
  }
 ],
 "metadata": {
  "anaconda-cloud": {},
  "kernelspec": {
   "display_name": "Python [conda root]",
   "language": "python",
   "name": "conda-root-py"
  },
  "language_info": {
   "codemirror_mode": {
    "name": "ipython",
    "version": 3
   },
   "file_extension": ".py",
   "mimetype": "text/x-python",
   "name": "python",
   "nbconvert_exporter": "python",
   "pygments_lexer": "ipython3",
   "version": "3.5.2"
  }
 },
 "nbformat": 4,
 "nbformat_minor": 0
}
