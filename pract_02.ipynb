{
 "cells": [
  {
   "cell_type": "markdown",
   "metadata": {},
   "source": [
    "## NumPy\n"
   ]
  },
  {
   "cell_type": "code",
   "execution_count": null,
   "metadata": {
    "collapsed": true
   },
   "outputs": [],
   "source": [
    "import numpy as np"
   ]
  },
  {
   "cell_type": "markdown",
   "metadata": {
    "collapsed": true
   },
   "source": [
    "W NumPy glowna struktura danych jest `numpy.ndarray` - pozwala na zapisywanie wektorow, macierzy i tenzorow."
   ]
  },
  {
   "cell_type": "code",
   "execution_count": null,
   "metadata": {
    "collapsed": false
   },
   "outputs": [],
   "source": [
    "a = np.array([[1, 2, 3], [4,5,6],[7,8,9]])"
   ]
  },
  {
   "cell_type": "markdown",
   "metadata": {},
   "source": [
    "niektore wlasciwosci objektu"
   ]
  },
  {
   "cell_type": "code",
   "execution_count": null,
   "metadata": {
    "collapsed": false
   },
   "outputs": [],
   "source": [
    "a.shape"
   ]
  },
  {
   "cell_type": "code",
   "execution_count": null,
   "metadata": {
    "collapsed": false
   },
   "outputs": [],
   "source": [
    "a.ndim\n"
   ]
  },
  {
   "cell_type": "code",
   "execution_count": null,
   "metadata": {
    "collapsed": false
   },
   "outputs": [],
   "source": [
    "a.dtype.name"
   ]
  },
  {
   "cell_type": "code",
   "execution_count": null,
   "metadata": {
    "collapsed": false
   },
   "outputs": [],
   "source": [
    "a.size"
   ]
  },
  {
   "cell_type": "code",
   "execution_count": null,
   "metadata": {
    "collapsed": false
   },
   "outputs": [],
   "source": [
    "np.info(a)"
   ]
  },
  {
   "cell_type": "code",
   "execution_count": null,
   "metadata": {
    "collapsed": false
   },
   "outputs": [],
   "source": [
    "a.nbytes"
   ]
  },
  {
   "cell_type": "code",
   "execution_count": null,
   "metadata": {
    "collapsed": true
   },
   "outputs": [],
   "source": [
    "a = np.arange( 0, 20, 0.2 )"
   ]
  },
  {
   "cell_type": "code",
   "execution_count": null,
   "metadata": {
    "collapsed": false
   },
   "outputs": [],
   "source": [
    "a"
   ]
  },
  {
   "cell_type": "code",
   "execution_count": null,
   "metadata": {
    "collapsed": false
   },
   "outputs": [],
   "source": [
    "b = np.arange(3,20,2).reshape(3,3)"
   ]
  },
  {
   "cell_type": "code",
   "execution_count": null,
   "metadata": {
    "collapsed": false
   },
   "outputs": [],
   "source": [
    "b"
   ]
  },
  {
   "cell_type": "code",
   "execution_count": null,
   "metadata": {
    "collapsed": true
   },
   "outputs": [],
   "source": [
    "c = np.random.randn(4,4)"
   ]
  },
  {
   "cell_type": "code",
   "execution_count": null,
   "metadata": {
    "collapsed": false
   },
   "outputs": [],
   "source": [
    "c"
   ]
  },
  {
   "cell_type": "code",
   "execution_count": null,
   "metadata": {
    "collapsed": true
   },
   "outputs": [],
   "source": []
  },
  {
   "cell_type": "markdown",
   "metadata": {},
   "source": [
    "wygodne tworzenie:\n",
    "- np.zeros( (a,b) )\n",
    "- np.ones( (a,b,c, ...)) \n",
    "- np.empty( (a,b, ..) )  \n",
    "- np.arange( 0, 20, 0.2 ) \n",
    "- np.random.randn(a, b)"
   ]
  },
  {
   "cell_type": "markdown",
   "metadata": {},
   "source": [
    "##### Sprobujcie stworzyc dwie zmiennych A i B jako 'arrays'\n",
    "\n",
    "jaki wyniki beda dla:\n",
    "- A + B\n",
    "- A * 2\n",
    "- A * B\n",
    "- np.sin(A)\n",
    "- A.dot(B)\n",
    "- np.dot(A, B)\n",
    "- A.T\n",
    "- A.mean() # zwrocic uwage na wynik"
   ]
  },
  {
   "cell_type": "markdown",
   "metadata": {},
   "source": [
    "##### Indeksy\n",
    "\n",
    "w NumPy latwo pracowac na dowolnych czesciach macierzy, sprobujcie:\n",
    "- A[:, :]\n",
    "- A[:, -1]\n",
    "- A < 3"
   ]
  },
  {
   "cell_type": "markdown",
   "metadata": {
    "collapsed": true
   },
   "source": [
    "##### Rozne manipulacje:\n",
    "- A.ravel()\n",
    "- A.shape\n",
    "- A.reshape(3,-1)\n",
    "- np.vstack((A,B))\n",
    "- np.hstack((A,B))"
   ]
  },
  {
   "cell_type": "markdown",
   "metadata": {
    "collapsed": true
   },
   "source": [
    "###### prosty przyklad mnozenia macierzy i wizualizacji wynikow"
   ]
  },
  {
   "cell_type": "code",
   "execution_count": null,
   "metadata": {
    "collapsed": true
   },
   "outputs": [],
   "source": [
    "fg = np.array([[1, 1, 1],\n",
    "               [1.2, 1, 1],\n",
    "               [1.5, 1, 1],\n",
    "               [1.8, 1, 1],\n",
    "               [2, 2, 1],\n",
    "               [2, 1.2, 1],\n",
    "               [2, 1.6, 1],\n",
    "               [2, 1.8, 1],\n",
    "               [2, 1, 1]\n",
    "     ])"
   ]
  },
  {
   "cell_type": "code",
   "execution_count": null,
   "metadata": {
    "collapsed": false
   },
   "outputs": [],
   "source": [
    "%matplotlib inline \n",
    "#ukazuje obrazy bezpośrednio w komórkach jupytera, inne opcje np notebook (skalowalne), "
   ]
  },
  {
   "cell_type": "code",
   "execution_count": null,
   "metadata": {
    "collapsed": true
   },
   "outputs": [],
   "source": [
    "import matplotlib.pyplot as plt"
   ]
  },
  {
   "cell_type": "code",
   "execution_count": null,
   "metadata": {
    "collapsed": false
   },
   "outputs": [],
   "source": [
    "plt.scatter(x=fg[:,0], y=fg[:,1], marker='x')"
   ]
  },
  {
   "cell_type": "code",
   "execution_count": null,
   "metadata": {
    "collapsed": false
   },
   "outputs": [],
   "source": [
    "transform = np.array([[1, 0.2, 0], [0, -0.5, 0], [0, 0.5, 1]])"
   ]
  },
  {
   "cell_type": "code",
   "execution_count": null,
   "metadata": {
    "collapsed": true
   },
   "outputs": [],
   "source": [
    "tf_fg = (transform * np.asmatrix(fg).T).T"
   ]
  },
  {
   "cell_type": "code",
   "execution_count": null,
   "metadata": {
    "collapsed": false
   },
   "outputs": [],
   "source": []
  },
  {
   "cell_type": "code",
   "execution_count": null,
   "metadata": {
    "collapsed": false
   },
   "outputs": [],
   "source": [
    "plt.scatter(x=tf_fg[:,0], y=tf_fg[:,1], marker='o')"
   ]
  },
  {
   "cell_type": "raw",
   "metadata": {},
   "source": [
    "# sprobujcie zmienic `fg` ta `transform` i popatrzec na zmiany wykresu"
   ]
  },
  {
   "cell_type": "code",
   "execution_count": null,
   "metadata": {
    "collapsed": true
   },
   "outputs": [],
   "source": []
  },
  {
   "cell_type": "markdown",
   "metadata": {},
   "source": [
    "  ### Macierz odwrotna\n",
    "  \n",
    "  $$AB=BA=I$$\n",
    "$$B=A^{-1}$$\n",
    "\n",
    "Macierzą **osobliwą** albo **zdegenerowaną** nazywa się macierz o wyznaczniku nieodwracalnym (zerowym)\n",
    "    \n",
    "Macierz kwadratowa nad pierścieniem przemiennym jest odwracalna wtedy, gdy jest ona nieosobliwa\n"
   ]
  },
  {
   "cell_type": "markdown",
   "metadata": {},
   "source": [
    "Uzytecznym pojeciem jest **baza** wektorovej przestrzeni:\n",
    "\n",
    "> Baza przestrzeni $ \\mathbb {V} $ to maksymalny, liniowo niezależny, podzbiór wektorów tej przestrzeni\n",
    "\n",
    "\n",
    "kozen wektor mozna przedstwaic jako kombinacjie liniowa, n.p. w przestrzeni $\\mathbb{R}^3$: $\\vec a = \\sum_{i=1}^3 a_i\\vec e_i$, gdzie\n",
    "\n",
    "\n",
    "\n",
    "\\begin{equation}\n",
    "\\vec e_1 = \\left( \\begin{matrix} 1 \\\\ 0 \\\\ 0 \\end{matrix} \\right),\\,\n",
    "\\vec e_2 = \\left( \\begin{matrix} 0 \\\\ 1 \\\\ 0 \\end{matrix} \\right),\n",
    "\\vec e_3 = \\left( \\begin{matrix} 0 \\\\ 0 \\\\ 1 \\end{matrix} \\right)\n",
    "\\end{equation}\n",
    "(niekoniecznie z \"1\" i \"0\")\n",
    "\n",
    "\n",
    "\n",
    "> From 'The invertible matrix theorem': The columns of $\\mathbf{A}$ ($\\mathbf{A}$ - nonsingular matrix) are linearly independent - form basis of $K^n$.\n",
    "\n",
    "\n",
    "\n",
    "\n"
   ]
  },
  {
   "cell_type": "markdown",
   "metadata": {},
   "source": [
    "#### Macierz odwrotna - obliczanie\n",
    "$$A^{-1}={A^{D} \\over \\det A}$$\n",
    "\n",
    "$A^{D}$  - jest macierzą dołączoną:\n",
    "$$\\mathbf {A} ^{\\mathrm {D} }=[A_{ij}]^{\\mathrm {T} }=[A_{ji}]$$\n",
    "$$A_{ij}=(-1)^{i+j}\\det {}_{ij}\\ \\mathbf {A}$$"
   ]
  },
  {
   "cell_type": "code",
   "execution_count": null,
   "metadata": {
    "collapsed": false
   },
   "outputs": [],
   "source": [
    "#Mamy macierz\n",
    "#\n",
    "check_matrix = np.array([[ 0.92632051,  0.79735959,  0.66304369],\n",
    "       [ 0.16380332,  0.4664927 ,  0.08088335],\n",
    "       [ 0.43217772,  0.30534049,  0.13684167]])\n"
   ]
  },
  {
   "cell_type": "code",
   "execution_count": null,
   "metadata": {
    "collapsed": false
   },
   "outputs": [],
   "source": [
    "# trzeba znalezc odwrotna macierz `check_matrix_inv` dla check_matrix\n",
    "check_matrix_inv = np.linalg.inv(check_matrix)\n",
    "check_matrix_inv"
   ]
  },
  {
   "cell_type": "code",
   "execution_count": null,
   "metadata": {
    "collapsed": false
   },
   "outputs": [],
   "source": [
    "# ta linijka ma wykonywac sie bez bledow\n",
    "assert np.allclose(check_matrix_inv, np.array([[-0.72134978, -1.72035139,  4.51203354], [-0.23113576,  2.94509129, -0.62083242],[ 2.79393264, -1.13823571, -5.55704334]]))"
   ]
  },
  {
   "cell_type": "markdown",
   "metadata": {},
   "source": [
    "> Rząd (rank) macierzy - maksymalna liczba liniowo niezależnych wektorów czy wierszy tworzących kolumny danej macierzy.\n",
    "\n",
    "$ A = \\left( \\begin{array} {rrr} 1 &  2 & -1 \\\\ 0 &  3 &  0 \\\\ 1 & -1 & -1 \\end{array}  \\right)$.\n",
    "\n",
    "Wyznaczyć $\\text{rk} A$ (za pomoca operacji elementarnych).\n",
    "\n",
    "w NumPy jest `numpy.linalg.matrix_rank(M, tol=None)`"
   ]
  },
  {
   "cell_type": "code",
   "execution_count": null,
   "metadata": {
    "collapsed": false
   },
   "outputs": [],
   "source": [
    "A = np.array([[1, 2, -1],[0, 3, 0],[1, -1, -1]])\n",
    "rkA = np.linalg.matrix_rank(A, tol=None)\n",
    "rkA"
   ]
  },
  {
   "cell_type": "markdown",
   "metadata": {},
   "source": [
    "Dane są macierze\n",
    "\n",
    "\n",
    "\\begin{equation}\n",
    "A = \\left( \\begin{matrix}  1 &2& 3 \\\\ -1 &1&0  \\end{matrix} \\right), B = \\left( \\begin{matrix}  2&1 \\\\ -1&1 \\\\  0&3 \\end{matrix}  \\right). \n",
    "\\end{equation}\n",
    "\n",
    "Obliczyć $AB$ oraz $C=B^*A^*$ ($^*$ - Sprzężenie hermitowskie macierzy, bardziej czesto oznaczane jako - $^\\dagger$).\n",
    "\n",
    "Znalezc srednia $C$ po wierszam i po kolumnam.\n",
    "\n"
   ]
  },
  {
   "cell_type": "code",
   "execution_count": null,
   "metadata": {
    "collapsed": false
   },
   "outputs": [],
   "source": [
    "A = np.array([[1,2,3], [-1,1,0]])\n",
    "A"
   ]
  },
  {
   "cell_type": "code",
   "execution_count": null,
   "metadata": {
    "collapsed": false
   },
   "outputs": [],
   "source": [
    "B = np.array([[2,1],[-1,1],[0,3]])\n",
    "B"
   ]
  },
  {
   "cell_type": "code",
   "execution_count": null,
   "metadata": {
    "collapsed": false
   },
   "outputs": [],
   "source": [
    "Asprzez = np.conj(A).T\n",
    "Bsprzez = np.conj(B).T\n",
    "C = Asprzez.dot(Bsprzez)\n",
    "C"
   ]
  },
  {
   "cell_type": "code",
   "execution_count": null,
   "metadata": {
    "collapsed": true
   },
   "outputs": [],
   "source": []
  },
  {
   "cell_type": "markdown",
   "metadata": {},
   "source": [
    "\\begin{equation}\n",
    "A = \\left( \\begin{matrix}  1 &2& 3 \\\\ -1 &1&0  \\\\ 4 & 2 & 8 \\end{matrix} \\right), B = \\left( \\begin{matrix}  2&1&7 \\\\ -1&1&6 \\\\  0&3 &1\\end{matrix}  \\right). \n",
    "\\end{equation}\n",
    "\n",
    "Wyznaczyć $AB$, $BA$, $A^{-1}$ oraz $B^{-1}$. Zbadać, czy $A^{-1}B^{-1} = (AB)^{-1}$."
   ]
  },
  {
   "cell_type": "code",
   "execution_count": null,
   "metadata": {
    "collapsed": false
   },
   "outputs": [],
   "source": [
    "A = np.array([[1,2,3],[-1,1,0],[4,2,8]])\n",
    "B = np.array([[2,1,7],[-1,1,6],[0,3,1]])"
   ]
  },
  {
   "cell_type": "code",
   "execution_count": null,
   "metadata": {
    "collapsed": false
   },
   "outputs": [],
   "source": [
    "ab = A.dot(B)\n",
    "ab"
   ]
  },
  {
   "cell_type": "code",
   "execution_count": null,
   "metadata": {
    "collapsed": false
   },
   "outputs": [],
   "source": [
    "ba = B.dot(A)\n",
    "ba"
   ]
  },
  {
   "cell_type": "code",
   "execution_count": null,
   "metadata": {
    "collapsed": false
   },
   "outputs": [],
   "source": [
    "aT = np.linalg.inv(A)\n",
    "bT = np.linalg.inv(B)\n",
    "aT"
   ]
  },
  {
   "cell_type": "code",
   "execution_count": null,
   "metadata": {
    "collapsed": false
   },
   "outputs": [],
   "source": [
    "if aT.dot(bT) == np.linalg.inv(ab)"
   ]
  },
  {
   "cell_type": "markdown",
   "metadata": {},
   "source": [
    "_bonus task_\n",
    "\n",
    "Dla ~10 kwadratowych macierzy rzendu od 2 do 1000 znalezc macierze odwrotne z pomiarem czasu wykonywania. Jak ten czas sie zmienia w zaleznosci od N? Zrobic wykres."
   ]
  },
  {
   "cell_type": "code",
   "execution_count": null,
   "metadata": {
    "collapsed": true
   },
   "outputs": [],
   "source": []
  },
  {
   "cell_type": "markdown",
   "metadata": {
    "collapsed": true
   },
   "source": [
    "### Rozkład według wartości osobliwych (SVD)\n",
    "\n",
    "to wygodna metoda pracy z macierzami. Pokazuje geometryczne struktury macierzy i pozwala na wizualizację dostępnych danych. Rozkład według wartości osobliwych jest stosowany w rozwiązywaniu różnorodnych problemów - od metody najmniejszych kwadratów i rozwiązywania układów równań do kompresji obrazow. SVD pozwala obliczyć odwrotne i pseudoodwrotne macierze dużych rozmiarów, co czyni go użytecznym narzędziem do rozwiązywania problemów związanych z analizą danych.\n",
    "\n",
    "\n",
    "Każdą macierz rzeczywistą A można przedstawić w postaci rozkładu SVD:\n",
    "\n",
    "$$\n",
    "A=U\\Sigma V^{T},\\!\n",
    "$$\n",
    "gdzie\n",
    "\n",
    "$U$ i $V$ - macierze ortogonalne (czyli $U^{-1}=U^{T}$ , $ V^{-1}=V^{T}$ ),\n",
    "\n",
    "$Σ$ - macierz diagonalna (przekątniowa), taka że $ \\Sigma =diag(\\sigma _{i})$ , gdzie $ \\sigma _{i}$  - nieujemne wartości szczególne (osobliwe) macierzy $A$, zwyczajowo uporządkowane nierosnąco.\n",
    "\n",
    ">  expression $UΣV^∗$ can be intuitively interpreted as a composition of three geometrical transformations: a rotation or reflection, a scaling, and another rotation or reflection.\n",
    "\n",
    "> Since U and V∗ are unitary, the columns of each of them form a set of orthonormal vectors, which can be regarded as basis vectors.\n",
    "\n",
    "> kolumny macierzy $U$ sa wlasnymi wektorami macierzy $AA^T$, а kwadraty wartości szczególnych $ \\Sigma =diag(\\sigma _{i})$ — ja wlasnymi wartosciami.\n"
   ]
  },
  {
   "cell_type": "code",
   "execution_count": null,
   "metadata": {
    "collapsed": false
   },
   "outputs": [],
   "source": [
    "#Mamy macierz\n",
    "#\n",
    "check_matrix = np.array([[ 0.92632051,  0.79735959,  0.66304369],\n",
    "       [ 0.16380332,  0.4664927 ,  0.08088335],\n",
    "       [ 0.43217772,  0.30534049,  0.13684167]])\n"
   ]
  },
  {
   "cell_type": "code",
   "execution_count": null,
   "metadata": {
    "collapsed": true
   },
   "outputs": [],
   "source": [
    "# trzeba znalezc SVD dla check_matrix\n",
    "u, s, v = np.linalg.svd(check_matrix)"
   ]
  },
  {
   "cell_type": "code",
   "execution_count": null,
   "metadata": {
    "collapsed": true
   },
   "outputs": [],
   "source": [
    "# zwrocic uwage na strukture macierzy, jaki sa wynikiem SVD"
   ]
  },
  {
   "cell_type": "code",
   "execution_count": null,
   "metadata": {
    "collapsed": false
   },
   "outputs": [],
   "source": [
    "u"
   ]
  },
  {
   "cell_type": "code",
   "execution_count": null,
   "metadata": {
    "collapsed": true
   },
   "outputs": [],
   "source": [
    "#powyzsza jest ortogonalna (patrz przekątne)"
   ]
  },
  {
   "cell_type": "code",
   "execution_count": null,
   "metadata": {
    "collapsed": false
   },
   "outputs": [],
   "source": [
    "# sprawdzic ze U  i V - macierze ortogonalne (UU^T=1)"
   ]
  },
  {
   "cell_type": "code",
   "execution_count": null,
   "metadata": {
    "collapsed": false
   },
   "outputs": [],
   "source": [
    "u.dot(u.T)\n",
    "#mamy 1 na przekatnej!!! na innych elementach mamy liczby, ktore sa bardzo bliskie zeru"
   ]
  },
  {
   "cell_type": "markdown",
   "metadata": {},
   "source": [
    "#### fajne ze w svd mozna zauwazyc to co ponizej, jesli mamy duza ilosc kolumn i wierszy ale niektore sa liniowo niezalezne to mozna obliczac ograniczone svd, z prawie ta samą dokładnościa. Kiedy to wszystko domnazamy do 1wsza kolumna macierzy bedzie domnazana na coraz mniejsza wartosc, jak ponizej s"
   ]
  },
  {
   "cell_type": "code",
   "execution_count": null,
   "metadata": {
    "collapsed": false
   },
   "outputs": [],
   "source": [
    "s"
   ]
  },
  {
   "cell_type": "code",
   "execution_count": null,
   "metadata": {
    "collapsed": true
   },
   "outputs": [],
   "source": []
  },
  {
   "cell_type": "markdown",
   "metadata": {},
   "source": [
    "For $M$  $ m\\times n$  with rank $r$ often can be calculated reduced decomposition:\n",
    "\n",
    "$ M=U_{r} \\Sigma_{r}V_{r}^{*}.$\n",
    "\n",
    "Need to calculate $r$  columns of $U$  and $r$  rows of $V^{*}$ . Rest columns of $U$ and rows of $V^{*}$ not computed. This saves lots of memory when  $r<<n$ .\n",
    "\n"
   ]
  },
  {
   "cell_type": "code",
   "execution_count": null,
   "metadata": {
    "collapsed": true
   },
   "outputs": [],
   "source": [
    "# sprawdzimy to\n",
    "\n",
    "# stworzymy macierz z r< n\n",
    "\n",
    "# sprawdzimy ze r<n\n",
    "\n",
    "# Porownamy\n",
    "# np.linalg.svd(a, full_matrices=True)\n",
    "# np.linalg.svd(a, full_matrices=False)\n",
    "# zwrocimy uwage na `shape`, info, `nbytes`"
   ]
  },
  {
   "cell_type": "markdown",
   "metadata": {},
   "source": [
    "### potrzbeujemy tworzyc macierz liniowo zalezna"
   ]
  },
  {
   "cell_type": "code",
   "execution_count": null,
   "metadata": {
    "collapsed": false
   },
   "outputs": [],
   "source": [
    "a1 = np.random.randn(20,20)\n",
    "#randomowa macierz na pewno niezalezna"
   ]
  },
  {
   "cell_type": "code",
   "execution_count": null,
   "metadata": {
    "collapsed": false
   },
   "outputs": [],
   "source": [
    "a2 = np.hstack((a1, a1*2))\n",
    "a2.shape\n",
    "#poziomowo dołączona to samo pomnozone na 2"
   ]
  },
  {
   "cell_type": "code",
   "execution_count": null,
   "metadata": {
    "collapsed": false
   },
   "outputs": [],
   "source": [
    "a3 = np.vstack((a2, a2)) \n",
    "a3.shape\n",
    "#czyli ta sama macierz doklejona z dołu"
   ]
  },
  {
   "cell_type": "code",
   "execution_count": null,
   "metadata": {
    "collapsed": false
   },
   "outputs": [],
   "source": [
    "u, s, v = np.linalg.svd(a3)"
   ]
  },
  {
   "cell_type": "code",
   "execution_count": null,
   "metadata": {
    "collapsed": false
   },
   "outputs": [],
   "source": [
    "s"
   ]
  },
  {
   "cell_type": "markdown",
   "metadata": {},
   "source": [
    "> za pomoca svd mozna zmniejszyc ilosc wymiarow, jesli uzyjemy kilku linijek kodu to mozna poawic sie z obrazkami czyli zmniejszyc ilosc danych w obrazku prawie z ta samą jakościa. Wyciagamy najbardziej znaczace informacje"
   ]
  },
  {
   "cell_type": "code",
   "execution_count": null,
   "metadata": {
    "collapsed": true
   },
   "outputs": [],
   "source": []
  },
  {
   "cell_type": "code",
   "execution_count": null,
   "metadata": {
    "collapsed": false
   },
   "outputs": [],
   "source": [
    "s.shape"
   ]
  },
  {
   "cell_type": "markdown",
   "metadata": {},
   "source": [
    "### PCA\n",
    "\n",
    ">Analiza głównych składowych (PCA) – jedna ze statystycznych metod analizy czynnikowej. Zbiór danych składający się z N obserwacji, z których każda obejmuje K zmiennych, można interpretować jako chmurę N punktów w przestrzeni K-wymiarowej. Celem PCA jest taki obrót układu współrzędnych, aby maksymalizować w pierwszej kolejności wariancję pierwszej współrzędnej, następnie wariancję drugiej współrzędnej, itd..\n",
    "\n",
    "\n",
    "<img src=\"https://upload.wikimedia.org/wikipedia/commons/8/82/PearsonFig.jpg\" width=\"50%\">\n",
    ">Pearson, K. 1901. On lines and planes of closest fit to systems of points in space. Philosophical Magazine 2:559-572."
   ]
  },
  {
   "cell_type": "markdown",
   "metadata": {},
   "source": [
    "PCA can be done by means of different algorythms. SVD can be used too:\n",
    "\n",
    "```\n",
    "    S = 2 # number of components to extract\n",
    "    U, s, V = np.linalg.svd( data )\n",
    "    Sig = np.mat(np.eye(S)*s[:S])\n",
    "    newU = U[:,:S]\n",
    "     \n",
    "    # retrieve transformed dataset from reduced matrices\n",
    "    # restored = U[:,:S]*Sig*V[:S,:]\n",
    "```"
   ]
  },
  {
   "cell_type": "markdown",
   "metadata": {},
   "source": [
    "_bonus_\n",
    "\n",
    "napisac funkcje, ktora zmniejsza N na macierzy, wygenerowac macierz i pobudowac wykres przed/po SVD\n",
    "\n",
    "_hint_ \n",
    "\n",
    "- bazujac na powyzszym;\n",
    "- macierz mozna zbudowac na podstwaie `randn`\n",
    "- do analizy mozna uzyc\n",
    "```\n",
    "imgplot = plt.imshow(a)\n",
    "plt.colorbar()\n",
    "plt.show()\n",
    "```\n",
    "i porownac obrazki\n",
    "- zamiast macierzy mozna pouzyc obrazek"
   ]
  }
 ],
 "metadata": {
  "anaconda-cloud": {},
  "kernelspec": {
   "display_name": "Python [conda root]",
   "language": "python",
   "name": "conda-root-py"
  },
  "language_info": {
   "codemirror_mode": {
    "name": "ipython",
    "version": 3
   },
   "file_extension": ".py",
   "mimetype": "text/x-python",
   "name": "python",
   "nbconvert_exporter": "python",
   "pygments_lexer": "ipython3",
   "version": "3.5.2"
  }
 },
 "nbformat": 4,
 "nbformat_minor": 0
}
